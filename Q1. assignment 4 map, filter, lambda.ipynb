{
 "cells": [
  {
   "cell_type": "markdown",
   "id": "458f3ec3",
   "metadata": {},
   "source": [
    "# write a python program to create a lambda function that adds 25 to a given number passed in as an argument.\n"
   ]
  },
  {
   "cell_type": "code",
   "execution_count": 1,
   "id": "6f478a6c",
   "metadata": {},
   "outputs": [
    {
     "name": "stdout",
     "output_type": "stream",
     "text": [
      "35\n"
     ]
    }
   ],
   "source": [
    "A = lambda b:b + 25\n",
    "print(A(10))"
   ]
  },
  {
   "cell_type": "code",
   "execution_count": null,
   "id": "3d38020f",
   "metadata": {},
   "outputs": [],
   "source": []
  }
 ],
 "metadata": {
  "kernelspec": {
   "display_name": "Python 3",
   "language": "python",
   "name": "python3"
  },
  "language_info": {
   "codemirror_mode": {
    "name": "ipython",
    "version": 3
   },
   "file_extension": ".py",
   "mimetype": "text/x-python",
   "name": "python",
   "nbconvert_exporter": "python",
   "pygments_lexer": "ipython3",
   "version": "3.8.8"
  }
 },
 "nbformat": 4,
 "nbformat_minor": 5
}
