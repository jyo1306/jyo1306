{
 "cells": [
  {
   "cell_type": "markdown",
   "id": "d43c1ea7",
   "metadata": {},
   "source": [
    "# Write a Python function that accepts a string and calculate the number of upper case letters and lower case letters.\n",
    "\n",
    "\n",
    "\n",
    "﻿Sample String : 'The quick Brow Fox'\n",
    "\n",
    "Expected Output :\n",
    "\n",
    "No. of Upper case characters : 3\n",
    "\n",
    "No. of Lower case Characters : 12\n"
   ]
  },
  {
   "cell_type": "code",
   "execution_count": 3,
   "id": "2a704f43",
   "metadata": {},
   "outputs": [
    {
     "name": "stdout",
     "output_type": "stream",
     "text": [
      "Enter string:The quick Brow Fox\n",
      "the number of uppercase character is:\n",
      "3\n",
      "the number of lowercase character is:\n",
      "12\n"
     ]
    }
   ],
   "source": [
    "string = input(\"Enter string:\")\n",
    "count1=0\n",
    "count2=0\n",
    "for i in string:\n",
    "    if(i.isupper()):\n",
    "        count1 = count1 + 1\n",
    "    elif(i.islower()):\n",
    "        count2 = count2 + 1\n",
    "print(\"the number of uppercase character is:\")\n",
    "print(count1)\n",
    "print(\"the number of lowercase character is:\")\n",
    "print(count2)"
   ]
  },
  {
   "cell_type": "code",
   "execution_count": null,
   "id": "c91c6d3e",
   "metadata": {},
   "outputs": [],
   "source": []
  }
 ],
 "metadata": {
  "kernelspec": {
   "display_name": "Python 3",
   "language": "python",
   "name": "python3"
  },
  "language_info": {
   "codemirror_mode": {
    "name": "ipython",
    "version": 3
   },
   "file_extension": ".py",
   "mimetype": "text/x-python",
   "name": "python",
   "nbconvert_exporter": "python",
   "pygments_lexer": "ipython3",
   "version": "3.8.8"
  }
 },
 "nbformat": 4,
 "nbformat_minor": 5
}
