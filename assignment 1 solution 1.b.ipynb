{
 "cells": [
  {
   "cell_type": "markdown",
   "id": "3eb92cfe",
   "metadata": {},
   "source": [
    "# # fibonacci\n",
    "Write a Python program to get the Fibonacci series between 0 to 50\n",
    "\n",
    "#solution 1.A"
   ]
  },
  {
   "cell_type": "code",
   "execution_count": 1,
   "id": "9d432e9b",
   "metadata": {},
   "outputs": [
    {
     "name": "stdout",
     "output_type": "stream",
     "text": [
      "0\n",
      "1\n",
      "1\n",
      "2\n",
      "3\n",
      "5\n",
      "8\n",
      "13\n",
      "21\n",
      "34\n"
     ]
    }
   ],
   "source": [
    "first = 0   \n",
    "second = 1   \n",
    "temp = 0\n",
    "while first <= 50:\n",
    "      print(first)\n",
    "      temp = first + second\n",
    "      first = second\n",
    "      second = temp\n",
    "    "
   ]
  }
 ],
 "metadata": {
  "kernelspec": {
   "display_name": "Python 3",
   "language": "python",
   "name": "python3"
  },
  "language_info": {
   "codemirror_mode": {
    "name": "ipython",
    "version": 3
   },
   "file_extension": ".py",
   "mimetype": "text/x-python",
   "name": "python",
   "nbconvert_exporter": "python",
   "pygments_lexer": "ipython3",
   "version": "3.8.8"
  }
 },
 "nbformat": 4,
 "nbformat_minor": 5
}
