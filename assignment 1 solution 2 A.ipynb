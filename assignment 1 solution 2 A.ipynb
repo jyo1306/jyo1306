{
 "cells": [
  {
   "cell_type": "markdown",
   "id": "fc702b3d",
   "metadata": {},
   "source": [
    "# Solution 2.A Write a Python program that accepts a word from the user and reverse it.\n"
   ]
  },
  {
   "cell_type": "code",
   "execution_count": 4,
   "id": "15e3c577",
   "metadata": {},
   "outputs": [
    {
     "name": "stdout",
     "output_type": "stream",
     "text": [
      "Please enter your own String : my name is JYOTSANA\n",
      "\n",
      "The Original String is:  my name is JYOTSANA\n",
      "The Reversed String is:  ANASTOYJ si eman ymmy name is JYOTSANA\n"
     ]
    }
   ],
   "source": [
    "my_str = input(\"Please enter your own String : \")\n",
    "str = ''\n",
    "for i in my_str:\n",
    "    str = i + str\n",
    "print(\"\\nThe Original String is: \", my_str)\n",
    "print(\"The Reversed String is: \", str)"
   ]
  }
 ],
 "metadata": {
  "kernelspec": {
   "display_name": "Python 3",
   "language": "python",
   "name": "python3"
  },
  "language_info": {
   "codemirror_mode": {
    "name": "ipython",
    "version": 3
   },
   "file_extension": ".py",
   "mimetype": "text/x-python",
   "name": "python",
   "nbconvert_exporter": "python",
   "pygments_lexer": "ipython3",
   "version": "3.8.8"
  }
 },
 "nbformat": 4,
 "nbformat_minor": 5
}
