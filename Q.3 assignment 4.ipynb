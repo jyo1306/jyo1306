{
 "cells": [
  {
   "cell_type": "markdown",
   "id": "376b0718",
   "metadata": {},
   "source": [
    "# write a python program to square the elements of a list using map() function "
   ]
  },
  {
   "cell_type": "code",
   "execution_count": 1,
   "id": "ffe19f61",
   "metadata": {},
   "outputs": [
    {
     "name": "stdout",
     "output_type": "stream",
     "text": [
      "original list: [4, 5, 2, 9]\n",
      "square the elements of the said list using map():\n",
      "[16, 25, 4, 81]\n"
     ]
    }
   ],
   "source": [
    "def square_num(n):\n",
    "    return n * n\n",
    "nums = [4,5,2,9]\n",
    "print('original list:',nums)\n",
    "result = map(square_num, nums)\n",
    "print(\"square the elements of the said list using map():\")\n",
    "print(list(result))"
   ]
  },
  {
   "cell_type": "code",
   "execution_count": null,
   "id": "4d042b29",
   "metadata": {},
   "outputs": [],
   "source": []
  }
 ],
 "metadata": {
  "kernelspec": {
   "display_name": "Python 3",
   "language": "python",
   "name": "python3"
  },
  "language_info": {
   "codemirror_mode": {
    "name": "ipython",
    "version": 3
   },
   "file_extension": ".py",
   "mimetype": "text/x-python",
   "name": "python",
   "nbconvert_exporter": "python",
   "pygments_lexer": "ipython3",
   "version": "3.8.8"
  }
 },
 "nbformat": 4,
 "nbformat_minor": 5
}
