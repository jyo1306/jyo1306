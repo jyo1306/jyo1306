{
 "cells": [
  {
   "cell_type": "markdown",
   "id": "9124b4f4",
   "metadata": {},
   "source": [
    "# Write a Python program to reverse a string.\n",
    "\n",
    "\n",
    "\n",
    "﻿Sample String : \"1234abcd\"\n",
    "\n",
    "Expected Output : \"dcba4321\"\n",
    "\n"
   ]
  },
  {
   "cell_type": "code",
   "execution_count": 1,
   "id": "0cd031aa",
   "metadata": {},
   "outputs": [
    {
     "name": "stdout",
     "output_type": "stream",
     "text": [
      "The original is :1234abcd\n",
      "thereversed string is :dcba4321\n"
     ]
    }
   ],
   "source": [
    "def reverse(string):\n",
    "    string = string[::-1]\n",
    "    return string\n",
    "str = \"1234abcd\"\n",
    "print(\"The original is :\",end=\"\")\n",
    "print(str)\n",
    "print(\"Te reversed string is :\",end=\"\")\n",
    "print(reverse(str))"
   ]
  },
  {
   "cell_type": "code",
   "execution_count": null,
   "id": "3968f8f6",
   "metadata": {},
   "outputs": [],
   "source": []
  }
 ],
 "metadata": {
  "kernelspec": {
   "display_name": "Python 3",
   "language": "python",
   "name": "python3"
  },
  "language_info": {
   "codemirror_mode": {
    "name": "ipython",
    "version": 3
   },
   "file_extension": ".py",
   "mimetype": "text/x-python",
   "name": "python",
   "nbconvert_exporter": "python",
   "pygments_lexer": "ipython3",
   "version": "3.8.8"
  }
 },
 "nbformat": 4,
 "nbformat_minor": 5
}
